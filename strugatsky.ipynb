{
 "cells": [
  {
   "cell_type": "markdown",
   "metadata": {},
   "source": [
    "<h1><center>Strugatsky - Corpus and Bias analysis</center></h1>"
   ]
  },
  {
   "cell_type": "markdown",
   "metadata": {},
   "source": [
    "#### 0.1 Imports:"
   ]
  },
  {
   "cell_type": "code",
   "execution_count": 1,
   "metadata": {},
   "outputs": [],
   "source": [
    "import numpy as np\n",
    "import pandas as pd\n",
    "import subprocess\n",
    "import itertools\n",
    "import html2text\n",
    "import requests\n",
    "import shutil\n",
    "import json\n",
    "import os\n",
    "import re\n",
    "\n",
    "from gensim.scripts.glove2word2vec import glove2word2vec\n",
    "from gensim.models.fasttext import load_facebook_vectors\n",
    "from gensim.models.word2vec import LineSentence\n",
    "from gensim.models.fasttext import FastText\n",
    "from gensim.test.utils import get_tmpfile\n",
    "from gensim.models import KeyedVectors\n",
    "from googletrans import Translator\n",
    "from collections import Counter\n",
    "import fasttext\n",
    "\n",
    "import seaborn as sns; \n",
    "sns.set(rc={\"xtick.bottom\" : True, \"ytick.left\" : True})\n",
    "from heatmap import heatmap, corrplot\n",
    "import matplotlib.pyplot as plt\n",
    "\n",
    "\n",
    "pd.set_option('display.max_rows', None)\n",
    "\n",
    "urls = [('http://www.rusf.ru/abs/books/oo', 19, '.htm'),\n",
    "        ('http://www.rusf.ru/abs/books/sot-20', 6, '.htm'),\n",
    "        ('http://www.rusf.ru/abs/books/oupa', 16, '.htm'),\n",
    "        ('http://www.rusf.ru/abs/books/m0', 9, '.htm'),\n",
    "        ('http://www.rusf.ru/abs/books/pno0', 5, '.htm'),\n",
    "        ('http://www.rusf.ru/abs/books/pip0', 8, '.htm'),\n",
    "        ('http://www.rusf.ru/abs/books/zmldks', 11, '.htm'),\n",
    "        ('http://www.rusf.ru/abs/books/go', 19, '.htm'),\n",
    "        ('http://www.rusf.ru/abs/books/zhvm', 31,'.htm'),\n",
    "        ('http://www.rusf.ru/abs/books/hs_gl', 10,'.htm'),\n",
    "        ('http://www.rusf.ru/abs/books/vgv0', 7,'.htm'),\n",
    "        ('http://www.rusf.ru/abs/books/oz', 29,'.htm'),\n",
    "        ('http://www.rusf.ru/abs/books/zhgp0', 2,'.htm')]\n",
    "\n",
    "\n",
    "mystem_to_upos = {'A':'ADJ',                                                                                                                                                                                                                                                                    \n",
    "                  'ADV':'ADV',                                                                                                                                                                                                                                                                    \n",
    "                  'ADVPRO':'ADV',                                                                                                                                                                                                                                                                    \n",
    "                  'ANUM':'ADJ',                                                                                                                                                                                                                                                                    \n",
    "                  'APRO':'DET',                                                                                                                                                                                                                                                                    \n",
    "                  'COM':'ADJ',                                                                                                                                                                                                                                                                    \n",
    "                  'CONJ':'SCONJ',                                                                                                                                                                                                                                                                  \n",
    "                  'INTJ':'INTJ',                                                                                                                                                                                                                                                                   \n",
    "                  'NONLEX':'X',                                                                                                                                                                                                                                                                     \n",
    "                  'NUM':'NUM',                                                                                                                                                                                                                                                                    \n",
    "                  'PART':'PART',                                                                                                                                                                                                                                                                   \n",
    "                  'PR':'ADP',                                                                                                                                                                                                                                                                    \n",
    "                  'S':'NOUN',                                                                                                                                                                                                                                                                   \n",
    "                  'SPRO':'PRON',                                                                                                                                                                                                                                                                   \n",
    "                  'UNKN':'X',                                                                                                                                                                                                                                                                     \n",
    "                  'V':'VERB'}"
   ]
  },
  {
   "cell_type": "markdown",
   "metadata": {},
   "source": [
    "#### 0.2 Standard paths:"
   ]
  },
  {
   "cell_type": "code",
   "execution_count": 2,
   "metadata": {},
   "outputs": [],
   "source": [
    "project_dir = os.getcwd()\n",
    "path_to_htmls = r'Strugatsky\\html'\n",
    "\n",
    "path_to_corpus = r'Corpus\\corpus.txt'\n",
    "path_to_corpus_lem = r'Corpus\\corpus_lemmatized.txt'\n",
    "path_to_corpus_lem_tagged = r'Corpus\\corpus_lemmatized_tagged.txt'\n",
    "\n",
    "path_to_mystem = r'Corpus\\mystem.json'\n",
    "path_tagged_datasets = r'Evaluation Datasets\\tagged'\n",
    "\n",
    "path_to_models = r'Models'\n",
    "path_to_models_ft = os.path.join(path_to_models, 'fasttext')\n",
    "path_to_models_ft_tagged = os.path.join(path_to_models_ft, 'tagged_models')\n",
    "\n",
    "path_to_ds = r'Evaluation Datasets'\n",
    "path_to_ds_tagged = r'Evaluation Datasets\\tagged'\n",
    "\n",
    "glove_tool_res_path = r'Models\\GloVe\\GloVe-Tool\\results'\n",
    "glove_dir_path = r'Models\\GloVe'\n",
    "\n",
    "ru_best_model = r'Models\\fasttext\\tagged_models\\tayga_upos_skipgram_300_2_2019.bin'\n",
    "ft_best_model = r'C:\\Users\\Denis Logvinenko\\Desktop\\Projekt\\Models\\fasttext\\cc.ru.300.bin'\n",
    "my_best_model = r'Models\\fasttext\\ft100_sk_lem_e20_lr.1.bin'\n",
    "path_to_wls = r'Word Lists\\ru'\n",
    "path_to_tagged_wls = os.path.join(path_to_wls, 'tagged')\n",
    "path_to_freqs = r'Corpus\\freq_dict.json'"
   ]
  },
  {
   "cell_type": "markdown",
   "metadata": {},
   "source": [
    "#### 0.3 Auxiliary functions:"
   ]
  },
  {
   "cell_type": "code",
   "execution_count": 3,
   "metadata": {},
   "outputs": [],
   "source": [
    "def save_to_path(path, extension_of_old='.xlsx', extension_of_new='.xlsx') -> str:\n",
    "    \"\"\"\n",
    "    Function checks if some file in path already exists and if so, it adds an\n",
    "    index before the extension.\n",
    "    \n",
    "    Function has 2 further parameters:\n",
    "        extension_of_old --> defines the extension of the original file\n",
    "        extension_of_new --> defines the extension of the new file to be saved\n",
    "        \n",
    "    returns the new save path\n",
    "    \"\"\"\n",
    "    \n",
    "    m = re.match(f'(.+){extension_of_old}?', path)\n",
    "    save_path = m.group(1) + f'{extension_of_new}'    \n",
    "    j = 1\n",
    "    while os.path.isfile(save_path):       \n",
    "        save_path = m.group(1) + f'{j}{extension_of_new}'\n",
    "        j += 1\n",
    "       \n",
    "    return save_path\n",
    "\n",
    "\n",
    "def flatten(T):\n",
    "    if not isinstance(T, tuple): return (T,)\n",
    "    elif len(T) == 0: return ()\n",
    "    else: return flatten(T[0]) + flatten(T[1:])\n",
    "    \n",
    "    \n",
    "    \n",
    "def download(url, filename=None):    \n",
    "    \n",
    "    if filename is None:\n",
    "        filename = url.split('/')[-1]\n",
    "            \n",
    "    def check_size():\n",
    "    \n",
    "        if os.path.isfile(filename):\n",
    "            current_size = os.stat(filename).st_size\n",
    "            ratio = current_size/whole_size\n",
    "            real_percentage = round(ratio*100)\n",
    "            ratio_of70 = round(ratio*70)\n",
    "            \n",
    "            if ratio_of70 > 70 or real_percentage > 100:\n",
    "                ratio_of70 = 70\n",
    "                real_percentage = 100\n",
    "                \n",
    "            four_spaces = 4*' '\n",
    "            output = f'[{ratio_of70*\"#\"+(70-ratio_of70)*\".\"}]{four_spaces}{real_percentage:>3}%'\n",
    "                   \n",
    "            print(f'{output:>80}', flush=True, end='\\r')\n",
    "            \n",
    "    if os.path.isfile(filename):\n",
    "        with open(filename, 'ab') as f:\n",
    "            current_size = os.stat(filename).st_size\n",
    "            resume_header = {'Range': 'bytes=%d-' % current_size}\n",
    "            response = requests.get(url, headers=resume_header, stream=True, allow_redirects=True)\n",
    "\n",
    "            whole_size = int(response.headers['Content-Length'])\n",
    "            \n",
    "            if whole_size > os.stat(filename).st_size:            \n",
    "                for chunk in response.iter_content(chunk_size=512):        \n",
    "                    f.write(chunk)\n",
    "                    check_size()\n",
    "    else:\n",
    "        response = requests.get(url, stream=True, allow_redirects=True)\n",
    "        whole_size = int(response.headers['Content-Length'])\n",
    "        \n",
    "        with open(filename, 'wb') as f:\n",
    "            for chunk in response.iter_content(chunk_size=512):        \n",
    "                f.write(chunk)\n",
    "                check_size()\n",
    "                \n",
    "    if os.path.isfile(filename):        \n",
    "        if whole_size > os.stat(filename).st_size:\n",
    "            print('CONNECTION LOST')\n",
    "            print('WHOLE SIZE =', whole_size, 'ON DISK =', os.stat(filename).st_size)\n",
    "            print('RECONNECTING...')\n",
    "            download(url, filename)\n",
    "        \n",
    "    check_size()"
   ]
  },
  {
   "cell_type": "markdown",
   "metadata": {},
   "source": [
    "<h1><center>1. Obtaining and preprocessing corpus</center></h1>"
   ]
  },
  {
   "cell_type": "markdown",
   "metadata": {},
   "source": [
    "#### 1.1 Functions for getting and processing the books:"
   ]
  },
  {
   "cell_type": "code",
   "execution_count": 22,
   "metadata": {},
   "outputs": [],
   "source": [
    "def get_chapters(url_chapter_triples, save_dir):\n",
    "    \n",
    "    for url_chapter_triple in url_chapter_triples:\n",
    "        prefix, number_of_chapters, extension = url_chapter_triple\n",
    "        \n",
    "        for chapter in range(1, number_of_chapters+1):\n",
    "            \n",
    "            if number_of_chapters > 9 and chapter < 10:\n",
    "                chapter_url = f'{prefix}0{chapter}{extension}'\n",
    "            else:\n",
    "                chapter_url = f'{prefix}{chapter}{extension}'\n",
    "                \n",
    "            filename = f\"{save_dir}/FULL_PAGE_{chapter_url.split('/')[-1]}\"\n",
    "            download(chapter_url, filename)\n",
    "\n",
    "\n",
    "def check_chars(dir_path):\n",
    "    \n",
    "    chars = set()\n",
    "    chars_dict = dict()\n",
    "    \n",
    "    for root, dirs, filenames in os.walk(dir_path):\n",
    "        for filename in filenames:\n",
    "            filename = os.path.join(root, filename)\n",
    "            with open(filename) as f:\n",
    "                html = f.read()\n",
    "            text = html2text.html2text(html)\n",
    "            chars_in_text = set(text)\n",
    "            chars = chars.union(chars_in_text)\n",
    "            \n",
    "    for char in chars:\n",
    "        chars_dict[char] = ord(char)\n",
    "        \n",
    "    chars_dict = {k: v for k, v in sorted(chars_dict.items(), key=lambda item: item[1])}\n",
    "    with open('chars.txt', 'w', encoding='utf-8') as f:\n",
    "        for char, code in chars_dict.items():\n",
    "            f.write(f'{char}\\t{code}\\n')\n",
    "            \n",
    "\n",
    "def preprocess_htmls(path_to_htmls):\n",
    "    \n",
    "    strugatsky_sents = []\n",
    "    \n",
    "    for root, dirs, files in os.walk(path_to_htmls):\n",
    "        for filename in files:\n",
    "            filename = os.path.join(root, filename)\n",
    "            if filename.endswith('.htm'):    \n",
    "                with open(filename) as f:\n",
    "                    html = f.read()    \n",
    "                \n",
    "                text = html2text.html2text(html)\n",
    "            \n",
    "                transl_table = str.maketrans('!?;123456789', '...000000000', \n",
    "                                             rf'\"#%\\'()*+,/:;=>@[\\]_`|{chr(147)}{chr(148)}§«º»№')\n",
    "                text = text.translate(transl_table)    \n",
    "                \n",
    "                text = text.split('\\n')\n",
    "                text_splitted = [line for line in text if line.strip()]\n",
    "                \n",
    "                bad_sents = ['htm', 'jpg', 'http', 'design', 'ru']\n",
    "                \n",
    "                if 'FULL_PAGE_' in filename:\n",
    "                    if filename.endswith('01.htm'):\n",
    "                        text_splitted = text_splitted[35:-12]\n",
    "                    else:\n",
    "                        text_splitted = text_splitted[35:-13]\n",
    "                        \n",
    "                text_splitted = [line for line in text_splitted if \n",
    "                                 all(term not in line for term in bad_sents)]\n",
    "                    \n",
    "                    \n",
    "                text_clean = ' '.join(text_splitted)\n",
    "                text_clean_sents = text_clean.split('.')\n",
    "                \n",
    "                text_clean_sents1 = []\n",
    "                for sent in text_clean_sents:\n",
    "                    sent = sent.lower().replace('- ', '').strip()\n",
    "                    if len(sent) > 1:\n",
    "                        text_clean_sents1.append(sent)\n",
    "                        \n",
    "                del text_clean_sents\n",
    "                strugatsky_sents.extend(text_clean_sents1)\n",
    "                \n",
    "    with open('strugatsky_preprocesed.txt', 'w') as f:\n",
    "        for sent in strugatsky_sents:\n",
    "            f.write(f'{sent}\\n')\n",
    "\n",
    "\n",
    "def show_spaced_words(path_to_corpus):\n",
    "    \n",
    "    pattern = '(.*? )??(([^ ]\\s){4,}).*'\n",
    "    regex = re.compile(pattern) \n",
    "\n",
    "    with open(path_to_corpus, encoding='utf-8') as f:\n",
    "        lines = f.readlines()\n",
    "\n",
    "    matched_lines = [regex.match(line).group(2) for line in lines if regex.match(line) is not None]\n",
    "    matched_ser = pd.Series(matched_lines)\n",
    "\n",
    "    print(matched_ser.drop_duplicates().sort_values())\n",
    "\n",
    "\n",
    "def delete_one_letter_words(path_to_corpus):\n",
    "    # [^аиовуксяж0 ] #\n",
    "    good_words = ['а', 'и', 'у', 'о', 'в', 'к', 'с', 'я', '0']\n",
    "    \n",
    "    with open(path_to_corpus, encoding='utf-8') as f:\n",
    "        sents = f.readlines()\n",
    "        \n",
    "    sents = [sent.split() for sent in sents]\n",
    "    new_filter = lambda x: len(x)>1 or x in good_words    \n",
    "    filtered = [filter(new_filter, sent) for sent in sents]\n",
    "    \n",
    "    filtered_save_path = re.match(f'(.+)\\..+', path_to_corpus).group(1) + '_filtered.txt'\n",
    "    \n",
    "    with open(filtered_save_path, 'w', encoding='utf-8') as f:\n",
    "        for line in filtered:\n",
    "            line_str = ' '.join(line)\n",
    "            if line_str:\n",
    "                f.write(f'{line_str}\\n')\n",
    "            "
   ]
  },
  {
   "cell_type": "markdown",
   "metadata": {},
   "source": [
    "#### 1.2 Getting and creating first versions of the corpus:"
   ]
  },
  {
   "cell_type": "code",
   "execution_count": null,
   "metadata": {},
   "outputs": [],
   "source": [
    "get_chapters(url_chapter_triples=urls, save_dir=path_to_htmls)\n",
    "    \n",
    "check_chars(path_to_htmls)\n",
    "\n",
    "preprocess_htmls(path_to_htmls)\n",
    "\n",
    "show_spaced_words(path_to_corpus)\n",
    "# AFTER THIS FUNCTION MANUAL DELETION OF SPACED WORDS IN THE RESULTING CORPUS IS REQUIRED\n",
    "\n",
    "delete_one_letter_words(path_to_corpus)\n",
    "# IT IS IMPERATIVE TO RESAVE THE FILE IN UTF-8 (EVEN IF WE ALREADY DID THAT WITH open(...encoding='utf-8'))\n",
    "# OTHERWISE THERE WILL BE PROBLEMS WHILE OPENING TRAINED MODELL"
   ]
  },
  {
   "cell_type": "markdown",
   "metadata": {},
   "source": [
    "<h1><center>2. Lemmatization</center></h1>"
   ]
  },
  {
   "cell_type": "markdown",
   "metadata": {},
   "source": [
    "#### 2.1 Use Yandex <a href=\"https://yandex.ru/dev/mystem/\">mystem</a> to lemmatize corpus: "
   ]
  },
  {
   "cell_type": "code",
   "execution_count": 17,
   "metadata": {},
   "outputs": [],
   "source": [
    "# Mystem is a console application for lemmatization from Yandex, which can be downloaded here:\n",
    "# https://yandex.ru/dev/mystem/\n",
    "\n",
    "os.chdir(r'Corpus')\n",
    "\n",
    "path_to_corpus = 'corpus.txt'\n",
    "path_to_mystem = 'mystem.json'\n",
    "command = rf'mystem -gi --format json {path_to_corpus} {path_to_mystem}'\n",
    "subprocess.run(command, check=True)\n",
    "\n",
    "os.chdir(project_dir)"
   ]
  },
  {
   "cell_type": "markdown",
   "metadata": {},
   "source": [
    "#### 2.2 Extracting necessary info from json:"
   ]
  },
  {
   "cell_type": "code",
   "execution_count": 18,
   "metadata": {},
   "outputs": [],
   "source": [
    "def create_lem_corpus(path_to_mystem=path_to_mystem, pos=False): \n",
    "    \n",
    "    f = open(path_to_mystem, encoding='utf-8')\n",
    "    corpus_lem = []    \n",
    "        \n",
    "    for line in f:\n",
    "            sent_analysis = json.loads(line)            \n",
    "            sent = []\n",
    "            for word in sent_analysis:\n",
    "                if 'analysis' in word and word['analysis']:\n",
    "                    lemma = word['analysis'][0]['lex']\n",
    "                    if pos:\n",
    "                        tags = word['analysis'][0]['gr']            \n",
    "                        tag = tags.split(',')[0].split('=')[0]\n",
    "                        tag = mystem_to_upos[tag]\n",
    "                        tagged_word = f'{lemma}_{tag}'\n",
    "                        sent.append(tagged_word)\n",
    "                        continue\n",
    "                    sent.append(lemma)\n",
    "                else:\n",
    "                    sent.append(word['text'])\n",
    "                    \n",
    "            corpus_lem.append(\" \".join(sent) + '\\n')\n",
    "\n",
    "    f.close()\n",
    "    \n",
    "    if pos:                        \n",
    "        save_path = 'corpus_lemmatized_tagged.txt'\n",
    "    else:\n",
    "        save_path = 'corpus_lemmatized.txt'\n",
    "                             \n",
    "    with open(save_path, 'w', encoding='utf-8') as f:\n",
    "        for sent in corpus_lem:\n",
    "            f.write(sent)\n",
    "\n",
    "create_lem_corpus(pos=False)\n",
    "create_lem_corpus(pos=True)"
   ]
  },
  {
   "cell_type": "markdown",
   "metadata": {},
   "source": [
    "#### 2.3 Showing words with count = N:"
   ]
  },
  {
   "cell_type": "code",
   "execution_count": 5,
   "metadata": {},
   "outputs": [],
   "source": [
    "### Here we can see examples of words that occur N (>=2 in this example) times in the corpus\n",
    "### Also interesting can be the number of words in each frequency-category\n",
    "\n",
    "def show_words(path, wcount=2, save_freq_dict=False):\n",
    "    with open(path, encoding='utf-8') as f:\n",
    "        least_common = Counter(f.read().split()).most_common()[::-1]\n",
    "    \n",
    "    freqs_dict = dict(least_common)\n",
    "    if save_freq_dict:\n",
    "        save_path = os.path.join(os.path.dirname(path), 'freq_dict.json')\n",
    "        with open(save_path, 'w', encoding='utf-8') as f:\n",
    "            json.dump(freqs_dict, f)\n",
    "            \n",
    "    words_dict = [ (word, count) for word, count in freqs_dict.items() if count >= wcount ][:100]\n",
    "\n",
    "    freqs = Counter([str(count)+' time(s) in text' for word, count in least_common]).most_common(100)\n",
    "\n",
    "    print(words_dict)\n",
    "    print(freqs)\n",
    "\n",
    "show_words(path_to_corpus)    \n",
    "show_words(path_to_corpus_lem, save_freq_dict=True)\n",
    "show_words(path_to_corpus_lem_tagged)"
   ]
  },
  {
   "cell_type": "markdown",
   "metadata": {},
   "source": [
    "<h1><center>3. Training and evaluating vectors</center></h1>"
   ]
  },
  {
   "cell_type": "markdown",
   "metadata": {},
   "source": [
    "### 3.0 Some preprocessing on datasets:"
   ]
  },
  {
   "cell_type": "markdown",
   "metadata": {},
   "source": [
    "#### 3.0.1 Extracting info from mystem json to get tagged datasets:"
   ]
  },
  {
   "cell_type": "code",
   "execution_count": 19,
   "metadata": {},
   "outputs": [],
   "source": [
    "def tagged_ds_tocsv(path_tagged_datasets=path_tagged_datasets):\n",
    "    \n",
    "    tagged_dir = os.listdir(path_tagged_datasets)\n",
    "    tagged_datasets = [dataset_name for dataset_name in tagged_dir if dataset_name.endswith('.json')]\n",
    "\n",
    "    for dataset_name in tagged_datasets:\n",
    "        \n",
    "        ds_fullpath = os.path.join(path_tagged_datasets, dataset_name) \n",
    "        f = open(ds_fullpath, encoding='utf-8')\n",
    "        tagged_ds = []    \n",
    "\n",
    "        for line in f:\n",
    "            sent_analysis = json.loads(line)            \n",
    "            sent = []\n",
    "            for word in sent_analysis:\n",
    "                if 'analysis' in word and word['analysis']:\n",
    "                    lemma = word['analysis'][0]['lex']\n",
    "                    tags = word['analysis'][0]['gr']            \n",
    "                    tag = tags.split(',')[0].split('=')[0]\n",
    "                    tag = mystem_to_upos[tag]\n",
    "                    tagged_word = f'{lemma}_{tag}'\n",
    "                    sent.append(tagged_word)\n",
    "                else:\n",
    "                    sent.append(word['text'])\n",
    "\n",
    "            tagged_ds.append(''.join(sent))\n",
    "\n",
    "        f.close()\n",
    "        \n",
    "        save_path = save_to_path(ds_fullpath, extension_of_old='.json', extension_of_new='.csv')\n",
    "        with open(save_path, 'w', encoding='utf-8') as f:\n",
    "            for sent in tagged_ds:\n",
    "                f.write(sent)\n",
    "\n",
    "tagged_ds_tocsv()"
   ]
  },
  {
   "cell_type": "markdown",
   "metadata": {},
   "source": [
    "#### 3.0.2 Convert already tagged datasets to UPOS:"
   ]
  },
  {
   "cell_type": "code",
   "execution_count": 35,
   "metadata": {},
   "outputs": [
    {
     "name": "stdout",
     "output_type": "stream",
     "text": [
      "['фонд_S', 'cd', '0.000000\\n']\n",
      "hj_tagged.csv\n",
      "['фонд_S', 'cd', '0.000000\\n']\n",
      "hj_wordsim353_relatedness_tagged.csv\n",
      "['фонд_S', 'cd', '0.000000\\n']\n",
      "hj_wordsim353_similarity_tagged.csv\n"
     ]
    }
   ],
   "source": [
    "tagged_dir = os.listdir(path_tagged_datasets)\n",
    "tagged_datasets = [dataset_name for dataset_name in tagged_dir if dataset_name.endswith('.csv')]\n",
    "pattern = re.compile('_(.+)')\n",
    "i = 0\n",
    "for ds in tagged_datasets:\n",
    "    ds_fullpath = os.path.join(path_tagged_datasets, ds)\n",
    "    new_tagged = []\n",
    "    \n",
    "    with open(ds_fullpath, encoding='utf-8') as f:\n",
    "        content = [line.split(',') for line in f if line]\n",
    "    \n",
    "    for line in content:\n",
    "        matched1 = pattern.search(line[0]).group(1)\n",
    "        replace1 = mystem_to_upos[matched1]\n",
    "        try:\n",
    "            matched2 = pattern.search(line[1]).group(1)\n",
    "        except AttributeError:\n",
    "            print(line)\n",
    "            print(ds)\n",
    "        replace2 = mystem_to_upos[matched2]\n",
    "        word1_new = line[0].replace(matched1, replace1)\n",
    "        word2_new = line[1].replace(matched2, replace2)\n",
    "        sim = line[2]\n",
    "        new_tagged.append((word1_new, word2_new, sim))\n",
    "    \n",
    "    save_path = save_to_path(ds_fullpath, extension_of_old='.csv', extension_of_new='.csv')\n",
    "    with open(save_path, 'w', encoding='utf-8') as f:\n",
    "        for word1, word2, sim in new_tagged:\n",
    "            f.write(f'{word1},{word2},{sim}')\n",
    "    \n"
   ]
  },
  {
   "cell_type": "markdown",
   "metadata": {},
   "source": [
    "['фонд_S', 'cd', '0.000000\\n'] <br>\n",
    "hj_tagged.csv <br>\n",
    "['фонд_S', 'cd', '0.000000\\n'] <br>\n",
    "hj_wordsim353_relatedness_tagged.csv <br>\n",
    "['фонд_S', 'cd', '0.000000\\n'] <br>\n",
    "hj_wordsim353_similarity_tagged.csv"
   ]
  },
  {
   "cell_type": "markdown",
   "metadata": {},
   "source": [
    "### 3.1 Function to evaluate models:"
   ]
  },
  {
   "cell_type": "code",
   "execution_count": 4,
   "metadata": {},
   "outputs": [],
   "source": [
    "def evaluate(path_to_models=path_to_models, path_to_ds=path_to_ds, show_oov=True):\n",
    "    eval_sets = []\n",
    "    models = []\n",
    "    evaluation_results = []  \n",
    "    average_oov = []\n",
    "    \n",
    "    models_dir = os.listdir(path_to_models)\n",
    "    models = [model_name for model_name in models_dir if model_name.endswith('.bin')]\n",
    "    \n",
    "    eval_dir = os.listdir(path_to_ds)\n",
    "    eval_sets = [eval_set_name for eval_set_name in eval_dir if eval_set_name.endswith('.csv')]  \n",
    "\n",
    "    for model_name in models:\n",
    "        model = KeyedVectors.load_word2vec_format(os.path.join(path_to_models, model_name), binary=True)\n",
    "        evaluated = []\n",
    "        oov = []\n",
    "\n",
    "        for eval_set_name in eval_sets:\n",
    "            path_eval = os.path.join(path_to_ds, eval_set_name)\n",
    "            try:\n",
    "                evaluation =  flatten(model.evaluate_word_pairs(path_eval, delimiter=','))\n",
    "            except ValueError:\n",
    "                print(eval_set_name)\n",
    "                print(model_name)\n",
    "            spearman = evaluation[2]\n",
    "            oov_value = evaluation[-1]\n",
    "            \n",
    "            oov.append(oov_value)\n",
    "            evaluated.append(spearman)\n",
    "            \n",
    "        evaluation_results.append(evaluated)\n",
    "        average_oov.append(np.mean(oov))\n",
    "        del model\n",
    "\n",
    "    eval_df = pd.DataFrame(data=evaluation_results, index=models, columns=eval_sets)\n",
    "        \n",
    "    eval_df['Average'] = eval_df.mean(numeric_only=True, axis=1)\n",
    "    if show_oov:\n",
    "        eval_df['oov'] = average_oov\n",
    "    \n",
    "    eval_df.sort_values(by='Average', ascending=False, inplace=True)   \n",
    "    \n",
    "    save_path_excel = os.path.join(path_to_models, 'evaluation.xlsx')\n",
    "    save_path_excel = save_to_path(save_path_excel)\n",
    "    \n",
    "    eval_df.to_excel(save_path_excel, sheet_name='Evaluation', header=True, index=True, \n",
    "                     merge_cells=True, float_format=\"%.2f\")"
   ]
  },
  {
   "cell_type": "markdown",
   "metadata": {},
   "source": [
    "### 3.2 FastText:"
   ]
  },
  {
   "cell_type": "markdown",
   "metadata": {},
   "source": [
    "#### 3.2.1 Function to train fasttext:"
   ]
  },
  {
   "cell_type": "code",
   "execution_count": 11,
   "metadata": {},
   "outputs": [],
   "source": [
    "def train_ft(path_to_corpus=path_to_corpus_lem, model='skipgram', dim=100, epoch=10, \n",
    "             lr=0.1, minn=3, maxn=6, save_dir=path_to_models_ft):\n",
    "    \n",
    "    prefix_model = 'sk' if model == 'skipgram' else 'cb'\n",
    "    prefix_lem = 'lem' if 'lem' in path_to_corpus else ''\n",
    "    prefix_tagged = 'pos' if 'tagged' in path_to_corpus else ''\n",
    "    prefix_epoch = 'e' + str(epoch)\n",
    "    prefix_lr = 'lr' + str(lr)[1:]\n",
    "    prefix_minn_maxn = ''\n",
    "    if minn != 3 or maxn != 6:\n",
    "        prefix_minn_maxn = str(minn) + '_' + str(maxn)\n",
    "    \n",
    "    prefixes = ['ft'+str(dim), prefix_model, prefix_lem, prefix_tagged, prefix_epoch, prefix_lr, prefix_minn_maxn]\n",
    "    prefixes = [prefix for prefix in prefixes if prefix]\n",
    "    prefixes = '_'.join(prefixes)\n",
    "    print(f'Model \"{prefixes}\" is training!')\n",
    "\n",
    "    model_trained = fasttext.train_unsupervised(input=path_to_corpus, minCount=2, thread=4, \n",
    "                                                model=model, dim=dim, epoch=epoch, lr=lr, \n",
    "                                                minn=minn, maxn=maxn)\n",
    "    if prefix_tagged:\n",
    "        save_dir = os.path.join(save_dir, 'tagged_models')\n",
    "\n",
    "    if not os.path.exists(save_dir):\n",
    "        os.mkdir(save_dir)\n",
    "        \n",
    "    save_path = save_dir + os.sep + prefixes\n",
    "    model_trained.save_model(save_path)\n",
    "\n",
    "    print(f'Training of \"{prefixes}\" is complete!')\n",
    "    del model_trained\n",
    "\n",
    "    model_trained = load_facebook_vectors(save_path, encoding='utf-8')\n",
    "\n",
    "    print(f'Saving \"{prefixes}\" in gensim binary format!\\n')\n",
    "    save_path_new = save_path + '.bin'\n",
    "    model_trained.save_word2vec_format(save_path_new, binary=True)\n",
    "    os.remove(save_path)\n",
    "    del model_trained\n",
    "                "
   ]
  },
  {
   "cell_type": "markdown",
   "metadata": {},
   "source": [
    "#### 3.2.2 Parameters for training and evaluation of fasttext models:"
   ]
  },
  {
   "cell_type": "code",
   "execution_count": 12,
   "metadata": {
    "scrolled": true
   },
   "outputs": [
    {
     "name": "stdout",
     "output_type": "stream",
     "text": [
      "Model \"ft100_sk_lem_pos_e10_lr.05\" is training!\n",
      "Training of \"ft100_sk_lem_pos_e10_lr.05\" is complete!\n",
      "Saving \"ft100_sk_lem_pos_e10_lr.05\" in gensim binary format!\n",
      "\n",
      "Model \"ft100_sk_lem_pos_e10_lr.1\" is training!\n",
      "Training of \"ft100_sk_lem_pos_e10_lr.1\" is complete!\n",
      "Saving \"ft100_sk_lem_pos_e10_lr.1\" in gensim binary format!\n",
      "\n",
      "Model \"ft200_sk_lem_pos_e10_lr.05\" is training!\n",
      "Training of \"ft200_sk_lem_pos_e10_lr.05\" is complete!\n",
      "Saving \"ft200_sk_lem_pos_e10_lr.05\" in gensim binary format!\n",
      "\n",
      "Model \"ft200_sk_lem_pos_e10_lr.1\" is training!\n",
      "Training of \"ft200_sk_lem_pos_e10_lr.1\" is complete!\n",
      "Saving \"ft200_sk_lem_pos_e10_lr.1\" in gensim binary format!\n",
      "\n",
      "Model \"ft100_sk_lem_pos_e20_lr.05\" is training!\n",
      "Training of \"ft100_sk_lem_pos_e20_lr.05\" is complete!\n",
      "Saving \"ft100_sk_lem_pos_e20_lr.05\" in gensim binary format!\n",
      "\n",
      "Model \"ft100_sk_lem_pos_e20_lr.1\" is training!\n",
      "Training of \"ft100_sk_lem_pos_e20_lr.1\" is complete!\n",
      "Saving \"ft100_sk_lem_pos_e20_lr.1\" in gensim binary format!\n",
      "\n",
      "Model \"ft200_sk_lem_pos_e20_lr.05\" is training!\n",
      "Training of \"ft200_sk_lem_pos_e20_lr.05\" is complete!\n",
      "Saving \"ft200_sk_lem_pos_e20_lr.05\" in gensim binary format!\n",
      "\n",
      "Model \"ft200_sk_lem_pos_e20_lr.1\" is training!\n",
      "Training of \"ft200_sk_lem_pos_e20_lr.1\" is complete!\n",
      "Saving \"ft200_sk_lem_pos_e20_lr.1\" in gensim binary format!\n",
      "\n",
      "Model \"ft100_cb_lem_pos_e10_lr.05\" is training!\n",
      "Training of \"ft100_cb_lem_pos_e10_lr.05\" is complete!\n",
      "Saving \"ft100_cb_lem_pos_e10_lr.05\" in gensim binary format!\n",
      "\n",
      "Model \"ft100_cb_lem_pos_e10_lr.1\" is training!\n",
      "Training of \"ft100_cb_lem_pos_e10_lr.1\" is complete!\n",
      "Saving \"ft100_cb_lem_pos_e10_lr.1\" in gensim binary format!\n",
      "\n",
      "Model \"ft200_cb_lem_pos_e10_lr.05\" is training!\n",
      "Training of \"ft200_cb_lem_pos_e10_lr.05\" is complete!\n",
      "Saving \"ft200_cb_lem_pos_e10_lr.05\" in gensim binary format!\n",
      "\n",
      "Model \"ft200_cb_lem_pos_e10_lr.1\" is training!\n",
      "Training of \"ft200_cb_lem_pos_e10_lr.1\" is complete!\n",
      "Saving \"ft200_cb_lem_pos_e10_lr.1\" in gensim binary format!\n",
      "\n",
      "Model \"ft100_cb_lem_pos_e20_lr.05\" is training!\n",
      "Training of \"ft100_cb_lem_pos_e20_lr.05\" is complete!\n",
      "Saving \"ft100_cb_lem_pos_e20_lr.05\" in gensim binary format!\n",
      "\n",
      "Model \"ft100_cb_lem_pos_e20_lr.1\" is training!\n",
      "Training of \"ft100_cb_lem_pos_e20_lr.1\" is complete!\n",
      "Saving \"ft100_cb_lem_pos_e20_lr.1\" in gensim binary format!\n",
      "\n",
      "Model \"ft200_cb_lem_pos_e20_lr.05\" is training!\n",
      "Training of \"ft200_cb_lem_pos_e20_lr.05\" is complete!\n",
      "Saving \"ft200_cb_lem_pos_e20_lr.05\" in gensim binary format!\n",
      "\n",
      "Model \"ft200_cb_lem_pos_e20_lr.1\" is training!\n",
      "Training of \"ft200_cb_lem_pos_e20_lr.1\" is complete!\n",
      "Saving \"ft200_cb_lem_pos_e20_lr.1\" in gensim binary format!\n",
      "\n"
     ]
    }
   ],
   "source": [
    "### lr=0.3 is too high!\n",
    "### RuntimeError is thrown:\n",
    "### https://fasttext.cc/docs/en/faqs.html#i-m-encountering-a-nan-why-could-this-be\n",
    "\n",
    "# path_to_corpus, model='skipgram', dim=100, epoch=10, lr=0.1, minn=3, maxn=6\n",
    "\n",
    "parameters_dict = { 'path_to_corpus' : [path_to_corpus, path_to_corpus_lem, path_to_corpus_lem_tagged],\n",
    "                    'model' : ['skipgram', 'cbow'],\n",
    "                    'epoch' : [10, 20],\n",
    "                    'dim' : [100, 200],\n",
    "                    'lr' : [0.05, 0.1] }\n",
    "\n",
    "parameters_dict = { 'path_to_corpus' : [path_to_corpus_lem_tagged],\n",
    "                    'model' : ['skipgram', 'cbow'],\n",
    "                    'epoch' : [10, 20],\n",
    "                    'dim' : [100, 200],\n",
    "                    'lr' : [0.05, 0.1] }\n",
    "\n",
    "permutations = itertools.product(*parameters_dict.values())\n",
    "parameters_list = [dict(zip(parameters_dict, v)) for v in permutations]\n",
    "\n",
    "for params in parameters_list:\n",
    "    train_ft(**params)"
   ]
  },
  {
   "cell_type": "markdown",
   "metadata": {},
   "source": [
    "#### 3.2.3 Evaluation:"
   ]
  },
  {
   "cell_type": "code",
   "execution_count": 17,
   "metadata": {
    "scrolled": false
   },
   "outputs": [],
   "source": [
    "evaluate(path_to_models=path_to_models_ft, path_to_ds=path_to_ds)\n",
    "evaluate(path_to_models=path_to_models_ft_tagged, path_to_ds=path_to_ds_tagged)"
   ]
  },
  {
   "cell_type": "markdown",
   "metadata": {},
   "source": [
    "### 3.3 GloVe - trained with Stanford-Tool:"
   ]
  },
  {
   "cell_type": "markdown",
   "metadata": {},
   "source": [
    "#### 3.3.1 Script to run GloVe-Tool:"
   ]
  },
  {
   "cell_type": "code",
   "execution_count": null,
   "metadata": {},
   "outputs": [],
   "source": [
    "script = \n",
    "\"\"\"\n",
    "#!/bin/bash\n",
    "make .\n",
    "\n",
    "CORPUS=corpus_lemmatized.txt\n",
    "VOCAB_FILE=results/vocab.txt\n",
    "COOCCURRENCE_FILE=results/cooccurrence.bin\n",
    "COOCCURRENCE_SHUF_FILE=results/cooccurrence.shuf.bin\n",
    "BUILDDIR=build\n",
    "\n",
    "VERBOSE=2\n",
    "MEMORY=8.0\n",
    "VOCAB_MIN_COUNT=2\n",
    "BINARY=2\n",
    "NUM_THREADS=8\n",
    "X_MAX=10\n",
    "\n",
    "for VECTOR_SIZE in 50 100 300\n",
    "    do \n",
    "    for MAX_ITER in 20 30\n",
    "        do\n",
    "        for WINDOW_SIZE in 10 15 20\n",
    "            do\n",
    "\n",
    "        SAVE_FILE=\"results/glove_${VECTOR_SIZE}d_${MAX_ITER}it_${WINDOW_SIZE}win\"\n",
    "\n",
    "        $BUILDDIR/vocab_count -min-count $VOCAB_MIN_COUNT -verbose $VERBOSE < $CORPUS > $VOCAB_FILE\n",
    "        if [[ $? -eq 0 ]]\n",
    "          then\n",
    "          $BUILDDIR/cooccur -memory $MEMORY -vocab-file $VOCAB_FILE -verbose $VERBOSE -window-size $WINDOW_SIZE < $CORPUS > $COOCCURRENCE_FILE\n",
    "          if [[ $? -eq 0 ]]\n",
    "          then\n",
    "            $BUILDDIR/shuffle -memory $MEMORY -verbose $VERBOSE < $COOCCURRENCE_FILE > $COOCCURRENCE_SHUF_FILE\n",
    "            if [[ $? -eq 0 ]]\n",
    "            then\n",
    "               $BUILDDIR/glove -save-file $SAVE_FILE -threads $NUM_THREADS -input-file $COOCCURRENCE_SHUF_FILE -x-max $X_MAX -iter $MAX_ITER -vector-size $VECTOR_SIZE -binary $BINARY -vocab-file $VOCAB_FILE -verbose $VERBOSE\n",
    "            fi\n",
    "          fi\n",
    "        fi\n",
    "        done\n",
    "    done\n",
    "done\n",
    "\n",
    "\"\"\""
   ]
  },
  {
   "cell_type": "markdown",
   "metadata": {},
   "source": [
    "#### 3.3.2 Convert GloVe-Vectors to Word2Vec-format:\n",
    "(The difference is that in GloVe-format one does not have a header: \"words_count    dims\")"
   ]
  },
  {
   "cell_type": "code",
   "execution_count": 8,
   "metadata": {},
   "outputs": [],
   "source": [
    "glove_dir = os.listdir(glove_tool_res_path)\n",
    "models = [model_name.split('.')[0] for model_name in glove_dir if 'glove_' in model_name and model_name.endswith('.txt')]\n",
    "\n",
    "for model_name in models:                       \n",
    "    glove_file = os.path.join(glove_tool_res_path, model_name + '.txt')\n",
    "    glove_w2v_format = os.path.join(glove_dir_path, model_name + '.bin')\n",
    "\n",
    "    _ = glove2word2vec(glove_file, glove_w2v_format)\n",
    "\n",
    "    model = KeyedVectors.load_word2vec_format(glove_w2v_format)\n",
    "    model.save_word2vec_format(glove_w2v_format, binary=True)\n",
    "    del model"
   ]
  },
  {
   "cell_type": "markdown",
   "metadata": {},
   "source": [
    "#### 3.3.3 Evaluation:"
   ]
  },
  {
   "cell_type": "code",
   "execution_count": 5,
   "metadata": {},
   "outputs": [],
   "source": [
    "evaluate(path_to_models=glove_dir_path)"
   ]
  },
  {
   "cell_type": "markdown",
   "metadata": {},
   "source": [
    "<h1><center>4. Measuring Bias</center></h1>"
   ]
  },
  {
   "cell_type": "markdown",
   "metadata": {},
   "source": [
    "### 4.0 Find most common names in corpus:"
   ]
  },
  {
   "cell_type": "code",
   "execution_count": 16,
   "metadata": {},
   "outputs": [],
   "source": [
    "# {\"lex\":\"катаев\",\"gr\":\"S,фам,муж,од=им,ед\"}\n",
    "# {\"lex\":\"дональд\",\"gr\":\"S,имя,муж,од=им,ед\"}\n",
    "\n",
    "def find_most_common_names(path_to_mystem=path_to_mystem): \n",
    "    \n",
    "    f = open(path_to_lem_corpus, encoding='utf-8')\n",
    "    male_names = []\n",
    "    female_names = []\n",
    "        \n",
    "    for line in f:\n",
    "            sent_analysis = json.loads(line)            \n",
    "            for word in sent_analysis:\n",
    "                if 'analysis' in word and word['analysis']:                    \n",
    "                    lemma = word['analysis'][0]['lex']\n",
    "                    tags = word['analysis'][0]['gr']            \n",
    "                    if 'имя' in tags or 'фам' in tags:\n",
    "                        if 'муж' in tags:\n",
    "                            male_names.append(lemma)\n",
    "                        elif 'жен' in tags:\n",
    "                            female_names.append(lemma)\n",
    "                        \n",
    "    f.close()\n",
    "    \n",
    "    male_names_counter = Counter(male_names).most_common()\n",
    "    female_names_counter = Counter(female_names).most_common()\n",
    "    names_ranking = zip(male_names_counter, female_names_counter)\n",
    "    \n",
    "    save_path = os.path.join(os.path.dirname(path_to_mystem), 'names_ranking.txt')\n",
    "                             \n",
    "    with open(save_path, 'w', encoding='utf-8') as f:\n",
    "        for male, female in names_ranking:\n",
    "            male_string = f'{male[0]:<15} {male[1]}'\n",
    "            female_string = f'{female[0]:<15} {female[1]}'\n",
    "            f.write(f'{male_string:<20} {female_string}\\n')\n",
    "            \n",
    "#find_most_common_names()"
   ]
  },
  {
   "cell_type": "markdown",
   "metadata": {},
   "source": [
    "### 4.1 Creating word lists (based on Garg et al. (2018)):"
   ]
  },
  {
   "cell_type": "markdown",
   "metadata": {},
   "source": [
    "#### 4.1.1 Check word in model:"
   ]
  },
  {
   "cell_type": "code",
   "execution_count": 18,
   "metadata": {},
   "outputs": [],
   "source": [
    "best_model = my_best_model\n",
    "\n",
    "model = KeyedVectors.load_word2vec_format(best_model, binary=True)"
   ]
  },
  {
   "cell_type": "code",
   "execution_count": 19,
   "metadata": {},
   "outputs": [
    {
     "name": "stdout",
     "output_type": "stream",
     "text": [
      "True\n",
      "[('унывать', 0.6490638852119446), ('обман', 0.642913281917572), ('привходящий', 0.5784028768539429), ('издеваться', 0.5353907942771912), ('кэпэдэ', 0.5144190192222595), ('дразнить', 0.508590579032898), ('обмолвиться', 0.5058943629264832), ('халиф', 0.5002902746200562), ('девать', 0.4919360280036926), ('долдонить', 0.4898584187030792)]\n",
      "0.23483701\n",
      "0.2898078\n"
     ]
    }
   ],
   "source": [
    "word = 'обманывать'\n",
    "word_in_model = word in model\n",
    "print(word_in_model)\n",
    "if word_in_model:        \n",
    "    print(model.most_similar(word))\n",
    "    print(model.similarity(word, 'мужчина'))\n",
    "    print(model.similarity(word, 'женщина'))"
   ]
  },
  {
   "cell_type": "markdown",
   "metadata": {},
   "source": [
    "#### 4.1.2 Translate Lists from Garg's Paper:"
   ]
  },
  {
   "cell_type": "code",
   "execution_count": 53,
   "metadata": {},
   "outputs": [],
   "source": [
    "def translate_garg(path_to_en, save_dir):\n",
    "    translator = Translator()\n",
    "    \n",
    "    if os.path.isfile(path_to_en):\n",
    "        word_lists = [path_to_en.split(os.sep)[-1]]\n",
    "        path_to_en = os.path.dirname(path_to_en)       \n",
    " \n",
    "    else:\n",
    "        word_lists = os.listdir(path_to_en)\n",
    "        word_lists = [word_list for word_list in word_lists if word_list.endswith('.txt')]\n",
    "    \n",
    "    for word_list in word_lists:\n",
    "        path_to_list = os.path.join(path_to_en, word_list)\n",
    "        \n",
    "        with open(path_to_list) as f:\n",
    "            words = [line.strip() for line in f if line]            \n",
    "        \"\"\"    \n",
    "        try:\n",
    "            translations = translator.translate(words, dest='ru')\n",
    "            \n",
    "        except json.decoder.JSONDecodeError:\n",
    "        \"\"\"        \n",
    "        translations = []\n",
    "        for idx, word in enumerate(words):\n",
    "            if idx%10 == 0:\n",
    "                translator = Translator()\n",
    "            translations.append(translator.translate(word, dest='ru'))\n",
    "        \n",
    "        if not os.path.exists(save_dir):\n",
    "            os.mkdir(save_dir)\n",
    "            \n",
    "        save_path = os.path.join(save_dir, word_list)\n",
    "        save_path = save_to_path(save_path, extension_of_old='.txt', extension_of_new='_en-ru.txt')\n",
    "        with open(save_path, 'w') as f:\n",
    "            for translation in translations:\n",
    "                f.write(f'{translation.origin}\\t{translation.text}\\n')\n",
    "        \n",
    "path_to_en = r'Word Lists\\en'\n",
    "save_dir = r'Word Lists\\ru'\n",
    "translate_garg(path_to_en, save_dir)\n",
    "\n",
    "### Following word list is too large to translate with googletrans\n",
    "### It therefore needs to be translated manually using the website \n",
    "\n",
    "path_to_traits = r'Word Lists\\en\\personalitytraits_original.txt'\n",
    "path_to_traits_ru = r'Word Lists\\ru\\personalitytraits_original_en-ru.txt'\n",
    "\n",
    "with open(path_to_traits) as f:\n",
    "    words_en = [line.strip() for line in f if line]\n",
    "\n",
    "with open(path_to_traits_ru) as f:\n",
    "    words_ru = [line.strip() for line in f if line]\n",
    "\n",
    "en_ru = zip(words_en, words_ru)\n",
    "\n",
    "with open(path_to_ru, 'w') as f:\n",
    "    for en, ru in en_ru:\n",
    "        f.write(f'{en}\\t{ru}\\n')"
   ]
  },
  {
   "cell_type": "markdown",
   "metadata": {},
   "source": [
    "#### 4.1.3 Delete duplicates from translations:"
   ]
  },
  {
   "cell_type": "code",
   "execution_count": 696,
   "metadata": {},
   "outputs": [],
   "source": [
    "def delete_same_words(path_to_list):\n",
    "    \n",
    "    with open(path_to_list) as f:\n",
    "        words_en_ru = {}\n",
    "        for line in f:\n",
    "            if line:\n",
    "                word_en = line.split()[0]\n",
    "                word_ru = line.split()[1]\n",
    "                if word_ru not in words_en_ru:\n",
    "                    words_en_ru[word_ru] = word_en\n",
    "                    \n",
    "    save_path = save_to_path(path_to_list, extension_of_old='.txt', extension_of_new='.txt')\n",
    "    with open(save_path, 'w') as f:\n",
    "        for word_ru, word_en in words_en_ru.items():\n",
    "            f.write(f'{word_en}\\t{word_ru}\\n')\n",
    "            \n",
    "path_to_list = r'Word Lists\\ru\\personalitytraits_original_en-ru.txt'\n",
    "delete_same_words(path_to_list)"
   ]
  },
  {
   "cell_type": "markdown",
   "metadata": {},
   "source": [
    "#### 4.1.4 Prepare word lists to be used with one of the best models from <a href=\"http://rusvectores.org/models\">RusVectores</a>:"
   ]
  },
  {
   "cell_type": "code",
   "execution_count": null,
   "metadata": {},
   "outputs": [],
   "source": [
    "### Here we create lemmatized neutral word lists that can be used to measure bias in\n",
    "### the UPOS-tagged models from rusvectores\n",
    "\n",
    "def create_tagged_wls(path_to_word_lists=path_to_word_lists, conversion_table=mystem_to_upos, \n",
    "                      save_dir=path_to_tagged_wls):\n",
    "    \n",
    "    dir_at_begin = os.getcwd()\n",
    "    wl_dir = os.listdir(path_to_word_lists)\n",
    "    wls = [wl_name for wl_name in wl_dir if 'FINAL' in wl_name]\n",
    "    paths_to_wls_tagged = []\n",
    "    \n",
    "    if not os.path.exists(save_dir):\n",
    "        os.mkdir(save_dir)\n",
    "        \n",
    "    os.chdir(path_to_word_lists)\n",
    "    for wl_name in wls:\n",
    "        path_to_wl_tagged = save_to_path(wl_name, extension_of_old='.txt', extension_of_new='_tagged.json')\n",
    "        command = rf'mystem -gi --format json {wl_name} {save_dir.split(os.sep)[-1]}\\{path_to_wl_tagged}'\n",
    "        subprocess.run(command, check=True)\n",
    "        \n",
    "        full_path_to_wl_tagged = os.path.join(save_dir, path_to_wl_tagged)\n",
    "        paths_to_wls_tagged.append(full_path_to_wl_tagged)\n",
    "        \n",
    "    for wl_fullpath in paths_to_wls_tagged:\n",
    " \n",
    "        f = open(wl_fullpath, encoding='utf-8')\n",
    "        tagged_wl = []    \n",
    "\n",
    "        for line in f:\n",
    "            sent_analysis = json.loads(line)            \n",
    "            en_word = sent_analysis[0]['text']\n",
    "            ru_word = sent_analysis[1]\n",
    "            \n",
    "            ru_tags = ru_word['analysis'][0]['gr']            \n",
    "            ru_tag = ru_tags.split(',')[0].split('=')[0]\n",
    "            ru_tag = conversion_table[ru_tag]\n",
    "            tagged_ru_word = f'{ru_word[\"text\"]}_{ru_tag}'\n",
    "\n",
    "            tagged_wl.append(f'{en_word}\\t{tagged_ru_word}\\n')\n",
    "\n",
    "        f.close()\n",
    "        \n",
    "        save_path_tagged_txt = save_to_path(wl_fullpath, extension_of_old='.json', extension_of_new='.txt')\n",
    "        with open(save_path_tagged_txt, 'w', encoding='utf-8') as f:\n",
    "            for sent in tagged_wl:\n",
    "                f.write(sent)                \n",
    "    os.chdir(dir_at_begin)\n",
    "        \n",
    "create_tagged_wls()"
   ]
  },
  {
   "cell_type": "markdown",
   "metadata": {},
   "source": [
    "#### 4.1.5 Check for OOV-words in tagged datasets:\n",
    "(caused mainly by the incosistency of tagging, such as the lack of present participles in the \"taiga\"-modell)"
   ]
  },
  {
   "cell_type": "code",
   "execution_count": 25,
   "metadata": {},
   "outputs": [],
   "source": [
    "def check_oov_in_tagged(path_to_model=ru_best_model,\n",
    "                        path_to_tagged_wls=path_to_tagged_wls):\n",
    "\n",
    "    wl_dir = os.listdir(path_to_tagged_wls)\n",
    "    wls = [wl_name.split('.')[0] for wl_name in wl_dir if wl_name.endswith('.txt')]\n",
    "    \n",
    "    model = KeyedVectors.load_word2vec_format(path_to_model, binary=True)\n",
    "    oov = []\n",
    "    \n",
    "    for wl_name in wls:\n",
    "        wl_path = os.path.join(path_to_tagged_wls, wl_name+'.txt')\n",
    "        \n",
    "        with open(wl_path, encoding='utf-8') as f:\n",
    "            words_ru = [line.split()[1] for line in f if line]\n",
    "        \n",
    "        for idx, word in enumerate(words_ru, start=1):\n",
    "            if word not in model:\n",
    "                oov.append((wl_name, idx, word))\n",
    "    save_path = os.path.join(path_to_tagged_wls, 'oov.txt')            \n",
    "    with open(save_path, 'w', encoding='utf-8') as f:\n",
    "        for wl_name, idx, word in oov:\n",
    "            f.write(f'{wl_name},{idx},{word}\\n')\n",
    "    \n",
    "check_oov_in_tagged()"
   ]
  },
  {
   "cell_type": "markdown",
   "metadata": {},
   "source": [
    "### 4.2 Measuring bias in word lists:"
   ]
  },
  {
   "cell_type": "markdown",
   "metadata": {},
   "source": [
    "#### 4.2.1 Parameters for measuring:"
   ]
  },
  {
   "cell_type": "code",
   "execution_count": 4,
   "metadata": {},
   "outputs": [],
   "source": [
    "top10_male_names = ['быков', 'иван', 'панин', 'валькенштейн', 'отто',\n",
    "                    'тэдди', 'кирилл', 'леонид', 'воронин', 'гальцев']\n",
    "\n",
    "top10_female_names = ['диана', 'сельма', 'наташа', 'зоя', 'шейла',\n",
    "                      'ирок', 'ирма', 'анка', 'таня', 'мария']\n",
    "\n",
    "male_words = ['сын', 'отец', 'мужчина', 'мальчик', 'мужской', 'брат', \n",
    "              'дядя', 'племянник', 'парень', 'господин', 'он']\n",
    "\n",
    "female_words = ['дочь', 'мама', 'женщина', 'девочка', 'женский', 'сестра', \n",
    "                'тетя', 'племянница', 'девушка', 'госпожа', 'она']\n",
    "\n",
    "male_words_tagged = ['сын_NOUN', 'отец_NOUN', 'мужчина_NOUN', 'мальчик_NOUN', 'мужской_ADJ', 'брат_NOUN', \n",
    "                     'дядя_NOUN', 'племянник_NOUN', 'парень_NOUN', 'господин_NOUN']\n",
    "\n",
    "female_words_tagged = ['дочь_NOUN', 'мама_NOUN', 'женщина_NOUN', 'девочка_NOUN', 'женский_ADJ', 'сестра_NOUN', \n",
    "                       'тетя_NOUN', 'племянница_NOUN', 'девушка_NOUN', 'госпожа_NOUN']"
   ]
  },
  {
   "cell_type": "markdown",
   "metadata": {},
   "source": [
    "#### 4.2.2 Auxiliary functions:"
   ]
  },
  {
   "cell_type": "code",
   "execution_count": 5,
   "metadata": {},
   "outputs": [],
   "source": [
    "def get_freqs(path_to_freqs=path_to_freqs):\n",
    "    with open(path_to_freqs) as f:\n",
    "        freq_dict = json.load(f)\n",
    "    return freq_dict\n",
    "\n",
    "\n",
    "def group_vector(model, group_words):\n",
    "    return (1/len(group_words))*np.sum([model.get_vector(word) for word in group_words], axis=0)\n",
    "\n",
    "\n",
    "def cos(v1, v2): \n",
    "    return np.dot(v1, v2)/np.linalg.norm(v1)/np.linalg.norm(v2)\n",
    "\n",
    "                           \n",
    "def relative_norm_bias(model, group_vector1, group_vector2, neutral_words):\n",
    "    biases = []\n",
    "    norm_dif = lambda x, y: np.linalg.norm(np.subtract(x, y))\n",
    "    for neutral_word in neutral_words:\n",
    "        neutral_word_vec = model.get_vector(neutral_word)\n",
    "        bias = np.subtract(norm_dif(neutral_word_vec, group_vector1), norm_dif(neutral_word_vec, group_vector2))\n",
    "        biases.append(bias)\n",
    "    return biases\n",
    "\n",
    "\n",
    "def cos_bias(model, group_vector1, group_vector2, neutral_words):\n",
    "    biases = []\n",
    "    for neutral_word in neutral_words:\n",
    "        neutral_word_vec = model.get_vector(neutral_word)\n",
    "        bias = np.subtract(cos(neutral_word_vec, group_vector2), cos(neutral_word_vec, group_vector1))\n",
    "        biases.append(bias)\n",
    "    return biases"
   ]
  },
  {
   "cell_type": "markdown",
   "metadata": {},
   "source": [
    "#### 4.2.3 Function to compute bias and create a table with the results:"
   ]
  },
  {
   "cell_type": "code",
   "execution_count": 6,
   "metadata": {},
   "outputs": [],
   "source": [
    "def rank_association(male_words, female_words, path_to_word_lists=path_to_wls,\n",
    "                     path_to_model=my_best_model, save_as_dict=True):\n",
    "    \n",
    "    model = KeyedVectors.load_word2vec_format(path_to_model, binary=True)\n",
    "    #freq_dict = get_freqs()\n",
    "    \n",
    "    male_vector = group_vector(model, male_words)\n",
    "    female_vector = group_vector(model, female_words)\n",
    "    \n",
    "    wl_dir = os.listdir(path_to_word_lists)\n",
    "    wls = [wl_name.split('.')[0] for wl_name in wl_dir if wl_name.endswith('.txt')]\n",
    "    biases_measured_in_wls = []\n",
    "    dfs = []\n",
    "    bias_dict = {}\n",
    "    \n",
    "    # y_labels_second = ['word_RU', 'word_count', 'word_EN', 'bias_score']\n",
    "    y_labels_second = ['word_RU', 'word_EN', 'bias_score']\n",
    "    \n",
    "    for wl_name in wls:\n",
    "        wl_path = os.path.join(path_to_word_lists, wl_name+'.txt')\n",
    "        \n",
    "        with open(wl_path, encoding='utf-8') as f:\n",
    "            words_en_ru = [line.split() for line in f if line]\n",
    "        \n",
    "        words_en = [words[0] for words in words_en_ru]\n",
    "        words_ru = [words[1] for words in words_en_ru]            \n",
    "        #neutral_w_count = [freq_dict[neutral_word] for neutral_word in words_ru]\n",
    "        \n",
    "        bias_in_wl = cos_bias(model, male_vector, female_vector, words_ru)\n",
    "        #result = np.asarray(list(zip(words_ru, neutral_w_count, words_en, bias_in_wl)))\n",
    "        result = np.asarray(list(zip(words_ru, words_en, bias_in_wl)))\n",
    "        biases_measured_in_wls.append(result)\n",
    "        \n",
    "        if save_as_dict:\n",
    "            bias_dict[wl_name] = [[x, y.item()] for x, y in sorted(zip(words_ru, bias_in_wl))]\n",
    "        \n",
    "        y_labels = [(wl_name, y_sec) for y_sec in y_labels_second]\n",
    "        mult_idx = pd.MultiIndex.from_tuples(y_labels)\n",
    "        df = pd.DataFrame(data=result, columns=mult_idx)\n",
    "        df[(wl_name, 'bias_score')] = pd.to_numeric(df[(wl_name, 'bias_score')])\n",
    "        #df[(wl_name, 'word_count')] = pd.to_numeric(df[(wl_name, 'word_count')])\n",
    "        df.sort_values(by=[(wl_name, 'bias_score')], ascending=False, inplace=True, ignore_index=True)\n",
    "        #print(df.head(10))\n",
    "        dfs.append(df)\n",
    "    \n",
    "    dfs.sort(key=lambda x: -x.shape[0])\n",
    "    assoc_rank_df = pd.concat(dfs, axis=1)\n",
    "    \n",
    "    save_path_excel = os.path.join(path_to_word_lists, 'association.xlsx')\n",
    "    save_path_excel = save_to_path(save_path_excel)\n",
    "    \n",
    "    assoc_rank_df.to_excel(save_path_excel, sheet_name='association', header=True, \n",
    "                           index=True, merge_cells=True, float_format=\"%.3f\")\n",
    "\n",
    "    if save_as_dict:\n",
    "        bias_dict_sorted = {k:bias_dict[k] for k in sorted(bias_dict, key=lambda k: -len(bias_dict[k]))}\n",
    "        save_path_json = save_to_path(save_path_excel, extension_of_old='.xlsx', extension_of_new='.json') \n",
    "        with open(save_path_json, 'w', encoding='utf-8') as f:\n",
    "            json.dump(bias_dict_sorted, f)\n"
   ]
  },
  {
   "cell_type": "markdown",
   "metadata": {},
   "source": [
    "#### 4.2.4 Bias-Tests on Strugatsky-Modell with different definitions for gender-vectors:"
   ]
  },
  {
   "cell_type": "code",
   "execution_count": 21,
   "metadata": {
    "scrolled": false
   },
   "outputs": [],
   "source": [
    "# TEST 1:\n",
    "rank_association(male_words, female_words, path_to_word_lists=path_to_wls, \n",
    "                 path_to_model=my_best_model, save_as_dict=True)\n",
    "\n",
    "# TEST 2:\n",
    "male_words_new = male_words + top10_male_names\n",
    "female_words_new = female_words + top10_female_names\n",
    "rank_association(male_words_new, female_words_new, path_to_word_lists=path_to_wls, \n",
    "                 path_to_model=my_best_model, save_as_dict=True)\n",
    "\n",
    "# TEST 3:\n",
    "rank_association(top10_male_names, top10_female_names, path_to_word_lists=path_to_wls, \n",
    "                 path_to_model=my_best_model, save_as_dict=True)"
   ]
  },
  {
   "cell_type": "markdown",
   "metadata": {},
   "source": [
    "#### 4.2.5 Bias-Test with the fastText-Model:"
   ]
  },
  {
   "cell_type": "code",
   "execution_count": 69,
   "metadata": {},
   "outputs": [],
   "source": [
    "rank_association(male_words, female_words, \n",
    "                 path_to_word_lists=path_to_wls, \n",
    "                 path_to_model=ft_best_model)"
   ]
  },
  {
   "cell_type": "markdown",
   "metadata": {},
   "source": [
    "#### 4.2.6 Bias-Test with the Taiga-Model:"
   ]
  },
  {
   "cell_type": "code",
   "execution_count": 14,
   "metadata": {},
   "outputs": [],
   "source": [
    "rank_association(male_words_tagged, female_words_tagged, \n",
    "                 path_to_word_lists=path_to_tagged_wls, \n",
    "                 path_to_model=ru_best_model)"
   ]
  },
  {
   "cell_type": "markdown",
   "metadata": {},
   "source": [
    "### 4.3 Correlation Heatmaps for the Tests:"
   ]
  },
  {
   "cell_type": "markdown",
   "metadata": {},
   "source": [
    "#### 4.3.1 Functions to create Heatmaps and save them as vector graphics:"
   ]
  },
  {
   "cell_type": "code",
   "execution_count": 15,
   "metadata": {
    "scrolled": false
   },
   "outputs": [],
   "source": [
    "def update_df(df):\n",
    "    allowed = [0, 4, 8]\n",
    "    rows = df.shape[0]\n",
    "    cols = df.shape[1]\n",
    "    for i in range(rows):\n",
    "        for j in range(cols):\n",
    "            if j not in allowed:\n",
    "                df.iat[i, j] = 0\n",
    "        allowed = update_idx(allowed)\n",
    "    return df\n",
    "\n",
    "\n",
    "def update_idx(indices, upd=1, max_val=11):\n",
    "    updated = []\n",
    "    for i in indices:\n",
    "        diff = i+upd-max_val\n",
    "        if diff > 0:\n",
    "            j = diff-1\n",
    "        else:\n",
    "            j = i+upd\n",
    "        updated.append(j)\n",
    "    updated.sort()\n",
    "    return updated\n",
    "\n",
    "\n",
    "def heatmap_markers(path_to_jsons, data_labels=None, full=True, marker='*'):\n",
    "    data_extracted = []\n",
    "    jsons_dir = os.listdir(path_to_jsons)\n",
    "    json_files = [file for file in jsons_dir if file.endswith('.json') and 'association' in file]\n",
    "    for json_f in json_files:\n",
    "        full_path = os.path.join(path_to_jsons, json_f)\n",
    "        with open(full_path, encoding='utf-8') as f:\n",
    "            extracted = json.load(f)\n",
    "        data_extracted.append(extracted)\n",
    "        \n",
    "    if not full:\n",
    "        data_extracted = [{i:[value for values in res_dict.values() for value in values]}\n",
    "                          for i, res_dict in enumerate(data_extracted)]\n",
    "    \n",
    "    num_tests = len(data_extracted)\n",
    "    num_wls = len(data_extracted[0])\n",
    "   \n",
    "    if data_labels is None:\n",
    "        data_labels = [f'T{x+1}WL{y+1}' if full else f'T{x+1}' for x in range(num_tests) for y in range(num_wls)]\n",
    "    \n",
    "    dfs = [pd.DataFrame(data=[result[1] for result in wl_results]) \n",
    "           for res_dict in data_extracted for wl_results in res_dict.values()]\n",
    "    data_df = pd.concat(dfs, axis=1)\n",
    "    data_df.columns = data_labels\n",
    "    \n",
    "    if not full:\n",
    "        corr_matrix = data_df.corr()\n",
    "    else:\n",
    "        corr_matrix = update_df(data_df.corr())\n",
    "\n",
    "    corr_matrix = pd.melt(corr_matrix.reset_index(), id_vars='index') # Unpivot the dataframe, so we can get pair of arrays for x and y\n",
    "    corr_matrix.columns = ['x', 'y', 'value']\n",
    "    \n",
    "    if not full:\n",
    "        plt.figure(figsize=(5,4))\n",
    "    else:\n",
    "        plt.figure(figsize=(9,7))\n",
    "        \n",
    "    heatmap(x=corr_matrix['x'],y=corr_matrix['y'], size_scale=200,\n",
    "            marker=marker, size=corr_matrix['value'].abs(),\n",
    "            palette=sns.color_palette(\"RdBu_r\", 7))    \n",
    "\n",
    "    save_path = save_to_path(os.path.join(path_to_wls, 'heatmap.svg'), \n",
    "                             extension_of_old='.svg', extension_of_new='.svg')\n",
    "    plt.savefig(save_path, facecolor='w', format='svg')\n",
    "\n",
    "    \n",
    "def heatmap_classic(path_to_jsons, data_labels=None, vmin=0, full=True):\n",
    "    \n",
    "    data_extracted = []\n",
    "    \n",
    "    jsons_dir = os.listdir(path_to_jsons)\n",
    "    json_files = [file for file in jsons_dir if file.endswith('.json') and 'association' in file]\n",
    "    for json_f in json_files:\n",
    "        full_path = os.path.join(path_to_jsons, json_f)\n",
    "        with open(full_path, encoding='utf-8') as f:\n",
    "            extracted = json.load(f)\n",
    "        data_extracted.append(extracted)\n",
    "        \n",
    "    if not full:\n",
    "        data_extracted = [{i:[value for values in res_dict.values() for value in values]}\n",
    "                          for i, res_dict in enumerate(data_extracted)]\n",
    "    \n",
    "    num_tests = len(data_extracted)\n",
    "    num_wls = len(data_extracted[0])\n",
    "    \n",
    "    if data_labels is None:\n",
    "        data_labels = [f'T{x+1}WL{y+1}' if full else f'T{x+1}' for x in range(num_tests) for y in range(num_wls)]\n",
    "    \n",
    "    dfs = [pd.DataFrame(data=[result[1] for result in wl_results]) \n",
    "           for res_dict in data_extracted for wl_results in res_dict.values()]\n",
    "    data_df = pd.concat(dfs, axis=1)\n",
    "    data_df.columns = data_labels\n",
    "\n",
    "    if not full:\n",
    "        corr_matrix = data_df.corr()\n",
    "    else:\n",
    "        corr_matrix = update_df(data_df.corr())\n",
    "\n",
    "    if full:\n",
    "        plt.figure(figsize=(9,7))\n",
    "    else:        \n",
    "        plt.figure(figsize=(5,4))\n",
    " \n",
    "    ax = sns.heatmap(corr_matrix, xticklabels=corr_matrix.columns, vmin=vmin,\n",
    "                     yticklabels=corr_matrix.columns, annot=True, square=True)\n",
    "    ax.invert_yaxis()\n",
    "    if full:\n",
    "        ax.set_xticklabels(ax.get_xticklabels(), rotation=45)\n",
    "    save_path = save_to_path(os.path.join(path_to_jsons, 'heatmap.svg'), \n",
    "                             extension_of_old='.svg', extension_of_new='.svg')\n",
    "    plt.savefig(save_path, facecolor='w', format='svg')\n"
   ]
  },
  {
   "cell_type": "markdown",
   "metadata": {},
   "source": [
    "#### 4.3.2 Measuring correlation for tests with Strugatsky-Modell:"
   ]
  },
  {
   "cell_type": "code",
   "execution_count": 64,
   "metadata": {
    "scrolled": false
   },
   "outputs": [
    {
     "data": {
      "image/png": "[encoded data removed]",
      "text/plain": [
       "<Figure size 648x504 with 2 Axes>"
      ]
     },
     "metadata": {},
     "output_type": "display_data"
    },
    {
     "data": {
      "image/png": "[encoded data removed]",
      "text/plain": [
       "<Figure size 360x288 with 2 Axes>"
      ]
     },
     "metadata": {},
     "output_type": "display_data"
    }
   ],
   "source": [
    "heatmap_classic(path_to_jsons=path_to_wls, full=True)\n",
    "heatmap_classic(path_to_jsons=path_to_wls, full=False)"
   ]
  },
  {
   "cell_type": "markdown",
   "metadata": {},
   "source": [
    "#### 4.3.3 Measuring correlation between 3 models for the Russian language:"
   ]
  },
  {
   "cell_type": "code",
   "execution_count": 20,
   "metadata": {
    "scrolled": true
   },
   "outputs": [
    {
     "data": {
      "image/png": "[encoded data removed]",
      "text/plain": [
       "<Figure size 648x504 with 2 Axes>"
      ]
     },
     "metadata": {},
     "output_type": "display_data"
    },
    {
     "data": {
      "image/png": "[encoded data removed]",
      "text/plain": [
       "<Figure size 360x288 with 2 Axes>"
      ]
     },
     "metadata": {},
     "output_type": "display_data"
    },
    {
     "data": {
      "image/png": "[encoded data removed]",
      "text/plain": [
       "<Figure size 648x504 with 1 Axes>"
      ]
     },
     "metadata": {},
     "output_type": "display_data"
    }
   ],
   "source": [
    "path_to_comparisons = r'C:\\Users\\Denis Logvinenko\\Desktop\\Projekt\\Word Lists\\ru\\Tests - Comparison'\n",
    "\n",
    "data_labels_short = ['ST', 'FT', 'TA']\n",
    "data_labels_long = [f'{label}WL{idx}' for label in data_labels_short for idx in range(1,5)]\n",
    "\n",
    "heatmap_classic(path_to_jsons=path_to_comparisons, data_labels=data_labels_long, vmin=-0.2, full=True)\n",
    "heatmap_classic(path_to_jsons=path_to_comparisons, data_labels=data_labels_short, vmin=0, full=False)\n",
    "heatmap_markers(path_to_jsons=path_to_comparisons, data_labels=data_labels_long, full=True, marker='p')"
   ]
  }
 ],
 "metadata": {
  "kernelspec": {
   "display_name": "Python 3",
   "language": "python",
   "name": "python3"
  },
  "language_info": {
   "codemirror_mode": {
    "name": "ipython",
    "version": 3
   },
   "file_extension": ".py",
   "mimetype": "text/x-python",
   "name": "python",
   "nbconvert_exporter": "python",
   "pygments_lexer": "ipython3",
   "version": "3.7.4"
  }
 },
 "nbformat": 4,
 "nbformat_minor": 4
}
